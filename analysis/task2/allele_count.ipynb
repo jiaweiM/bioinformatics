{
 "cells": [
  {
   "cell_type": "code",
   "execution_count": 19,
   "metadata": {
    "collapsed": true
   },
   "outputs": [],
   "source": [
    "import pandas as pd\n",
    "import numpy as np\n",
    "from collections import Counter"
   ]
  },
  {
   "cell_type": "code",
   "execution_count": 20,
   "outputs": [],
   "source": [
    "def stat(sheet):\n",
    "    count_dict = Counter()\n",
    "    for row in sheet.itertuples(index=False):\n",
    "        allele, _, _, frequency, sample_size, _ = row\n",
    "\n",
    "        if not np.isnan(frequency):\n",
    "            count = round(frequency * sample_size)\n",
    "            count_dict[allele] += count\n",
    "    return count_dict"
   ],
   "metadata": {
    "collapsed": false,
    "pycharm": {
     "name": "#%%\n"
    }
   }
  },
  {
   "cell_type": "code",
   "execution_count": 21,
   "outputs": [],
   "source": [
    "xlsx_path = r\"D:\\data\\nino\\allele_frequency.xlsx\"\n",
    "\n",
    "sheet_a = pd.read_excel(xlsx_path, sheet_name=\"A\")\n",
    "sheet_b = pd.read_excel(xlsx_path, sheet_name=\"B\")\n",
    "sheet_drb1 = pd.read_excel(xlsx_path, sheet_name=\"DRB1\")\n",
    "count_a = stat(sheet_a)\n",
    "count_b = stat(sheet_b)\n",
    "count_drb1 = stat(sheet_drb1)"
   ],
   "metadata": {
    "collapsed": false,
    "pycharm": {
     "name": "#%%\n"
    }
   }
  },
  {
   "cell_type": "code",
   "execution_count": 22,
   "outputs": [
    {
     "data": {
      "text/plain": "[('A*02', 893677),\n ('A*02:01', 661331),\n ('A*01:01', 370676),\n ('A*24', 355645),\n ('A*24:02', 336528),\n ('A*01', 323096),\n ('A*03', 318213),\n ('A*03:01', 314056),\n ('A*11:01', 245197),\n ('A*11', 200847)]"
     },
     "execution_count": 22,
     "metadata": {},
     "output_type": "execute_result"
    }
   ],
   "source": [
    "count_a.most_common(10)"
   ],
   "metadata": {
    "collapsed": false,
    "pycharm": {
     "name": "#%%\n"
    }
   }
  },
  {
   "cell_type": "code",
   "execution_count": 26,
   "outputs": [
    {
     "data": {
      "text/plain": "[('B*35', 401886),\n ('B*44', 362306),\n ('B*15', 296876),\n ('B*51', 282519),\n ('B*07:02', 280266),\n ('B*07', 233416),\n ('B*08:01', 222321),\n ('B*35:01', 197270),\n ('B*08', 178895),\n ('B*44:02', 177631)]"
     },
     "execution_count": 26,
     "metadata": {},
     "output_type": "execute_result"
    }
   ],
   "source": [
    "count_b.most_common(10)"
   ],
   "metadata": {
    "collapsed": false,
    "pycharm": {
     "name": "#%%\n"
    }
   }
  },
  {
   "cell_type": "code",
   "execution_count": 24,
   "outputs": [
    {
     "data": {
      "text/plain": "[('DRB1*13', 448239),\n ('DRB1*07', 437588),\n ('DRB1*04', 431535),\n ('DRB1*11', 425797),\n ('DRB1*07:01', 397315),\n ('DRB1*15', 343444),\n ('DRB1*03', 330363),\n ('DRB1*01', 328105),\n ('DRB1*15:01', 303361),\n ('DRB1*03:01', 303225)]"
     },
     "execution_count": 24,
     "metadata": {},
     "output_type": "execute_result"
    }
   ],
   "source": [
    "count_drb1.most_common(10)"
   ],
   "metadata": {
    "collapsed": false,
    "pycharm": {
     "name": "#%%\n"
    }
   }
  },
  {
   "cell_type": "code",
   "execution_count": 24,
   "outputs": [],
   "source": [],
   "metadata": {
    "collapsed": false,
    "pycharm": {
     "name": "#%%\n"
    }
   }
  }
 ],
 "metadata": {
  "kernelspec": {
   "display_name": "Python 3",
   "language": "python",
   "name": "python3"
  },
  "language_info": {
   "codemirror_mode": {
    "name": "ipython",
    "version": 2
   },
   "file_extension": ".py",
   "mimetype": "text/x-python",
   "name": "python",
   "nbconvert_exporter": "python",
   "pygments_lexer": "ipython2",
   "version": "2.7.6"
  }
 },
 "nbformat": 4,
 "nbformat_minor": 0
}