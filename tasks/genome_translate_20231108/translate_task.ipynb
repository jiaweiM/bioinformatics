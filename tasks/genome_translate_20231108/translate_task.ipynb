{
 "cells": [
  {
   "cell_type": "code",
   "execution_count": 1,
   "metadata": {
    "collapsed": true,
    "ExecuteTime": {
     "end_time": "2023-11-14T02:11:08.941912700Z",
     "start_time": "2023-11-14T02:11:08.847736100Z"
    }
   },
   "outputs": [],
   "source": [
    "import gzip\n",
    "from Bio import SeqIO"
   ]
  },
  {
   "cell_type": "code",
   "execution_count": 3,
   "metadata": {
    "ExecuteTime": {
     "end_time": "2023-11-14T03:43:40.481529100Z",
     "start_time": "2023-11-14T02:23:28.408480300Z"
    }
   },
   "outputs": [
    {
     "name": "stderr",
     "output_type": "stream",
     "text": [
      "C:\\Users\\jiawe\\.conda\\envs\\bio\\Lib\\site-packages\\Bio\\Seq.py:2804: BiopythonWarning: Partial codon, len(sequence) not a multiple of three. Explicitly trim the sequence or add trailing N before translation. This may become an error in future.\n",
      "  warnings.warn(\n"
     ]
    }
   ],
   "source": [
    "with gzip.open(r\"D:\\data_friend\\liuzheyi\\Antarctic_Krill_genome.fasta.gz\", \"rt\") as handle:\n",
    "    input_record_it = SeqIO.parse(handle, \"fasta\")\n",
    "    protein_record_it = (record.translate() for record in input_record_it)\n",
    "    SeqIO.write(protein_record_it, r\"D:\\data_friend\\liuzheyi\\Antarctic_Krill_proteome.fasta\", \"fasta\")\n"
   ]
  },
  {
   "cell_type": "code",
   "execution_count": null,
   "outputs": [],
   "source": [],
   "metadata": {
    "collapsed": false
   }
  }
 ],
 "metadata": {
  "kernelspec": {
   "display_name": "Python 3",
   "language": "python",
   "name": "python3"
  },
  "language_info": {
   "codemirror_mode": {
    "name": "ipython",
    "version": 3
   },
   "file_extension": ".py",
   "mimetype": "text/x-python",
   "name": "python",
   "nbconvert_exporter": "python",
   "pygments_lexer": "ipython3",
   "version": "3.11.5"
  }
 },
 "nbformat": 4,
 "nbformat_minor": 0
}
